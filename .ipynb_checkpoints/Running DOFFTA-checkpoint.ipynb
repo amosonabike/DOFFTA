{
 "cells": [
  {
   "cell_type": "code",
   "execution_count": 1,
   "metadata": {},
   "outputs": [],
   "source": [
    "# importing modules to use\n",
    "import numpy as np\n",
    "\n",
    "import pandas as pd\n",
    "\n",
    "import os\n",
    "\n",
    "import matplotlib as mpl\n",
    "import matplotlib.pyplot as plt\n",
    "\n",
    "from scipy import signal\n",
    "from scipy.optimize import curve_fit\n",
    "from scipy.fftpack import fft, fftfreq\n",
    "from scipy.stats import cauchy\n",
    "from scipy.special import legendre\n",
    "from scipy import interpolate\n",
    "from IPython.display import display, clear_output\n",
    "\n"
   ]
  },
  {
   "cell_type": "code",
   "execution_count": 2,
   "metadata": {},
   "outputs": [],
   "source": [
    "#Droplet Oscillation Fast Fourier Transform Analysis\n",
    "import DOFFTA"
   ]
  },
  {
   "cell_type": "code",
   "execution_count": 3,
   "metadata": {},
   "outputs": [
    {
     "ename": "KeyboardInterrupt",
     "evalue": "Interrupted by user",
     "output_type": "error",
     "traceback": [
      "\u001b[0;31m---------------------------------------------------------------------------\u001b[0m",
      "\u001b[0;31mKeyboardInterrupt\u001b[0m                         Traceback (most recent call last)",
      "\u001b[0;32m<ipython-input-3-97215d0fbc50>\u001b[0m in \u001b[0;36m<module>\u001b[0;34m\u001b[0m\n\u001b[0;32m----> 1\u001b[0;31m \u001b[0mfilepath\u001b[0m \u001b[0;34m=\u001b[0m \u001b[0minput\u001b[0m\u001b[0;34m(\u001b[0m\u001b[0;34m'File location: '\u001b[0m\u001b[0;34m)\u001b[0m\u001b[0;34m.\u001b[0m\u001b[0mreplace\u001b[0m\u001b[0;34m(\u001b[0m\u001b[0;34m'\"'\u001b[0m\u001b[0;34m,\u001b[0m\u001b[0;34m''\u001b[0m\u001b[0;34m)\u001b[0m\u001b[0;34m\u001b[0m\u001b[0;34m\u001b[0m\u001b[0m\n\u001b[0m\u001b[1;32m      2\u001b[0m \u001b[0;34m\u001b[0m\u001b[0m\n\u001b[1;32m      3\u001b[0m \u001b[0;31m#file location\u001b[0m\u001b[0;34m\u001b[0m\u001b[0;34m\u001b[0m\u001b[0;34m\u001b[0m\u001b[0m\n\u001b[1;32m      4\u001b[0m \u001b[0mdir_path\u001b[0m \u001b[0;34m=\u001b[0m \u001b[0mos\u001b[0m\u001b[0;34m.\u001b[0m\u001b[0mpath\u001b[0m\u001b[0;34m.\u001b[0m\u001b[0mdirname\u001b[0m\u001b[0;34m(\u001b[0m\u001b[0mfilepath\u001b[0m\u001b[0;34m)\u001b[0m\u001b[0;34m\u001b[0m\u001b[0;34m\u001b[0m\u001b[0m\n\u001b[1;32m      5\u001b[0m \u001b[0mprint\u001b[0m\u001b[0;34m(\u001b[0m \u001b[0mdir_path\u001b[0m\u001b[0;34m)\u001b[0m\u001b[0;34m\u001b[0m\u001b[0;34m\u001b[0m\u001b[0m\n",
      "\u001b[0;32m~/opt/anaconda3/lib/python3.8/site-packages/ipykernel/kernelbase.py\u001b[0m in \u001b[0;36mraw_input\u001b[0;34m(self, prompt)\u001b[0m\n\u001b[1;32m    858\u001b[0m                 \u001b[0;34m\"raw_input was called, but this frontend does not support input requests.\"\u001b[0m\u001b[0;34m\u001b[0m\u001b[0;34m\u001b[0m\u001b[0m\n\u001b[1;32m    859\u001b[0m             )\n\u001b[0;32m--> 860\u001b[0;31m         return self._input_request(str(prompt),\n\u001b[0m\u001b[1;32m    861\u001b[0m             \u001b[0mself\u001b[0m\u001b[0;34m.\u001b[0m\u001b[0m_parent_ident\u001b[0m\u001b[0;34m,\u001b[0m\u001b[0;34m\u001b[0m\u001b[0;34m\u001b[0m\u001b[0m\n\u001b[1;32m    862\u001b[0m             \u001b[0mself\u001b[0m\u001b[0;34m.\u001b[0m\u001b[0m_parent_header\u001b[0m\u001b[0;34m,\u001b[0m\u001b[0;34m\u001b[0m\u001b[0;34m\u001b[0m\u001b[0m\n",
      "\u001b[0;32m~/opt/anaconda3/lib/python3.8/site-packages/ipykernel/kernelbase.py\u001b[0m in \u001b[0;36m_input_request\u001b[0;34m(self, prompt, ident, parent, password)\u001b[0m\n\u001b[1;32m    902\u001b[0m             \u001b[0;32mexcept\u001b[0m \u001b[0mKeyboardInterrupt\u001b[0m\u001b[0;34m:\u001b[0m\u001b[0;34m\u001b[0m\u001b[0;34m\u001b[0m\u001b[0m\n\u001b[1;32m    903\u001b[0m                 \u001b[0;31m# re-raise KeyboardInterrupt, to truncate traceback\u001b[0m\u001b[0;34m\u001b[0m\u001b[0;34m\u001b[0m\u001b[0;34m\u001b[0m\u001b[0m\n\u001b[0;32m--> 904\u001b[0;31m                 \u001b[0;32mraise\u001b[0m \u001b[0mKeyboardInterrupt\u001b[0m\u001b[0;34m(\u001b[0m\u001b[0;34m\"Interrupted by user\"\u001b[0m\u001b[0;34m)\u001b[0m \u001b[0;32mfrom\u001b[0m \u001b[0;32mNone\u001b[0m\u001b[0;34m\u001b[0m\u001b[0;34m\u001b[0m\u001b[0m\n\u001b[0m\u001b[1;32m    905\u001b[0m             \u001b[0;32mexcept\u001b[0m \u001b[0mException\u001b[0m \u001b[0;32mas\u001b[0m \u001b[0me\u001b[0m\u001b[0;34m:\u001b[0m\u001b[0;34m\u001b[0m\u001b[0;34m\u001b[0m\u001b[0m\n\u001b[1;32m    906\u001b[0m                 \u001b[0mself\u001b[0m\u001b[0;34m.\u001b[0m\u001b[0mlog\u001b[0m\u001b[0;34m.\u001b[0m\u001b[0mwarning\u001b[0m\u001b[0;34m(\u001b[0m\u001b[0;34m\"Invalid Message:\"\u001b[0m\u001b[0;34m,\u001b[0m \u001b[0mexc_info\u001b[0m\u001b[0;34m=\u001b[0m\u001b[0;32mTrue\u001b[0m\u001b[0;34m)\u001b[0m\u001b[0;34m\u001b[0m\u001b[0;34m\u001b[0m\u001b[0m\n",
      "\u001b[0;31mKeyboardInterrupt\u001b[0m: Interrupted by user"
     ]
    }
   ],
   "source": [
    "filepath = input('File location: ').replace('\"','')\n",
    "\n",
    "#file location\n",
    "dir_path = os.path.dirname(filepath)\n",
    "print( dir_path)\n"
   ]
  },
  {
   "cell_type": "code",
   "execution_count": null,
   "metadata": {},
   "outputs": [],
   "source": [
    "experimental_data = DOFFTA.import_data(filepath)\n",
    "DOFFTA.review_data(experimental_data)"
   ]
  },
  {
   "cell_type": "code",
   "execution_count": null,
   "metadata": {},
   "outputs": [],
   "source": [
    "experimental_data = DOFFTA.remove_unecessary_data(experimental_data,)\n",
    "DOFFTA.review_data(experimental_data)"
   ]
  },
  {
   "cell_type": "code",
   "execution_count": null,
   "metadata": {},
   "outputs": [],
   "source": [
    "d_final, d_final_std, AR_final, d_correction, d_calibrated, A_0_estimate = DOFFTA.get_calibrated_diameter(experimental_data)\n"
   ]
  },
  {
   "cell_type": "code",
   "execution_count": null,
   "metadata": {},
   "outputs": [],
   "source": [
    "calibrated_data = DOFFTA.get_calibrated_data(experimental_data, d_correction)"
   ]
  },
  {
   "cell_type": "code",
   "execution_count": null,
   "metadata": {
    "scrolled": false
   },
   "outputs": [],
   "source": [
    "trimmed_data = DOFFTA.review_centre_offset(calibrated_data, save_figures='y', save_location= dir_path)"
   ]
  },
  {
   "cell_type": "markdown",
   "metadata": {},
   "source": [
    "## Frequency cut offs\n",
    "For the fft fits. These values are also used in the slied method below."
   ]
  },
  {
   "cell_type": "code",
   "execution_count": null,
   "metadata": {},
   "outputs": [],
   "source": [
    "#change these if desired. Set to extremes if you would like no data to be cut (eg min = 0 and max = 10e9)\n",
    "min_frequency = 10e3\n",
    "max_frequency = 100e3"
   ]
  },
  {
   "cell_type": "code",
   "execution_count": null,
   "metadata": {},
   "outputs": [],
   "source": [
    "sigma, sigma_error, lorentzian_fit_data, experimental_fft = DOFFTA.full_surface_tension_calculation(trimmed_data.time_s,\n",
    "                                                                                                   trimmed_data.aspect_ratio.values,\n",
    "                                                                                                   d_final/2,\n",
    "                                                                                                   d_final_std/2,\n",
    "                                                                                                   density = DOFFTA.rho_water,\n",
    "                                                                                                   low_freq_cut_off=min_frequency,\n",
    "                                                                                                   high_freq_cut_off=max_frequency)\n",
    "\n",
    "print(\"Surface tension / mN/m:\\n\" + str(round(sigma*1e3,3)) + ' ± ' + str(round(sigma_error*1e3,3)))\n",
    "\n"
   ]
  },
  {
   "cell_type": "code",
   "execution_count": null,
   "metadata": {},
   "outputs": [],
   "source": [
    "\n",
    "\n",
    "DOFFTA.save_experiment_parameters(dir_path,calibrated_data, trimmed_data)"
   ]
  },
  {
   "cell_type": "code",
   "execution_count": null,
   "metadata": {},
   "outputs": [],
   "source": [
    "print('Observed Diameter / µm: \\t' + str(d_final/1e-6))\n",
    "print('Observed Diameter Std Dev / µm: \\t' + str(d_final_std/1e-6))\n",
    "print('Blur Corrected Diameter / µm: \\t' + str(d_calibrated/1e-6))\n",
    "print('Expected Diameter / µm: \\t' + str(2*DOFFTA.get_water_true_diameter(sigma,d_calibrated/2)/1e-6))"
   ]
  },
  {
   "cell_type": "code",
   "execution_count": null,
   "metadata": {},
   "outputs": [],
   "source": [
    "rho_water = 998\n",
    "def chopped_surface_tension_calculations(data_list, slice_points, equilibrium_radius, mode_order = 2, density = rho_water, low_freq_cut_off = 0, high_freq_cut_off = 100e3, save_figures = 'n', save_location = 'NaN'):\n",
    "    \n",
    "    fft_list = []\n",
    "    lorentzian_list = []\n",
    "    \n",
    "    figure, ax = plt.subplots(figsize = (13, 8))\n",
    "    \n",
    "    cmap = mpl.cm.viridis_r\n",
    "    norm = mpl.colors.Normalize(slice_points.min()/1e-6, slice_points.max()/1e-6)\n",
    "    colors = cmap((slice_points - slice_points.min())/(slice_points.max() - slice_points.min()))\n",
    "    \n",
    "    for item, color in zip(data_list, colors):\n",
    "            fft = DOFFTA.get_fft(item.time_s.values, item.aspect_ratio.values)\n",
    "            fft = fft[(fft.frequency > low_freq_cut_off) & (fft.frequency < high_freq_cut_off)]\n",
    "            lorentzian_fit = DOFFTA.get_lorentzian_fit(fft.frequency, fft.amplitude)\n",
    "\n",
    "            fft_list.append(fft)\n",
    "            lorentzian_list.append(lorentzian_fit)\n",
    "\n",
    "            L, = ax.plot(lorentzian_fit[0], lorentzian_fit[1], color = color, linewidth = 1, label = 'Lorentzian Fit', zorder = 0)\n",
    "            # experimental data\n",
    "            ax.scatter(fft.frequency, fft.amplitude, s = 20, color = L.get_color(), marker = 's', label = 'Experimental FFT')\n",
    "            #peak\n",
    "            ax.axvline(lorentzian_fit[2][1], linestyle = '--', color = L.get_color(), lw = 1, label = 'Peak Frequency')\n",
    "            ax.axvspan(lorentzian_fit[2][1] - lorentzian_fit[3][1], lorentzian_fit[2][1] + lorentzian_fit[3][1], color = L.get_color(), alpha = 0.2)\n",
    "            \n",
    "            ax.set_xlabel('Freq / Hz')\n",
    "            ax.set_ylabel('Amplitude / -')\n",
    "    plt.colorbar(mpl.cm.ScalarMappable(cmap = cmap, norm = norm),\n",
    "                 label = \"Time of slice / µs\")\n",
    "            \n",
    "    plt.show()\n",
    "    \n",
    "    \n",
    "    figure, (ax0, ax1) = plt.subplots(ncols = 1, nrows = 2, sharex = True, dpi = 100, figsize = (13, 16), )\n",
    "    plt.subplots_adjust(wspace=0, hspace=0)\n",
    "\n",
    "    surface_tensions = [] \n",
    "    surface_tension_errs = [] \n",
    "    \n",
    "    for lorentzian_fit, time, data, color in zip(lorentzian_list, slice_points, data_list, colors):\n",
    "        peak_frequency = 2 * np.pi * lorentzian_fit[2][1]\n",
    "        peak_frequency_err = 2 * np.pi * lorentzian_fit[3][1]\n",
    "        \n",
    "        surface_tension = DOFFTA.calc_suraface_tension(equilibrium_radius,density, peak_frequency, mode_order)\n",
    "        surface_tension_err = 2 * peak_frequency_err * DOFFTA.calc_suraface_tension(equilibrium_radius,density,np.sqrt(peak_frequency), mode_order)    \n",
    "        \n",
    "        surface_tensions.append(surface_tension)\n",
    "        surface_tension_errs.append(surface_tension_err)\n",
    "        \n",
    "        ax0.errorbar(time/1e-6, surface_tension, surface_tension_err, color = color, elinewidth = 1, capsize = 2, capthick = 1)\n",
    "        ax0.scatter(time/1e-6, surface_tension, color = color, marker = 'o', s = 10)\n",
    "\n",
    "        ax0.set_ylabel('Surface Tension / Nm$^{-1}$')\n",
    "        \n",
    "        p, = ax1.plot(data.time_s/1e-6, data.aspect_ratio, color = color)\n",
    "        ax1.axvline(time/1e-6, color = p.get_color(), lw = 1, ls = '--', zorder = 0)\n",
    "        ax1.set_xlabel('Time / µs')\n",
    "        ax1.set_ylabel('Aspect Ratio / -')\n",
    "    \n",
    "    if np.array(surface_tensions).max() > 0.06:\n",
    "        ax0.axhline(72.8e-3, lw = 1, color = 'k', zorder = 0)\n",
    "    plt.show()\n",
    "    return\n",
    "    "
   ]
  },
  {
   "cell_type": "code",
   "execution_count": null,
   "metadata": {},
   "outputs": [],
   "source": [
    "\n",
    "                \n",
    "def slice_data(df):\n",
    "\n",
    "    class Parameters:\n",
    "        def __init__(self, rolling_window, smoothing_factor, tail_length, oscillation_sigma_threshold): \n",
    "            self.properties = {'rolling_window' : 5,\n",
    "                               'smoothing_factor' : 0.05,\n",
    "                               'tail_length' : 100,\n",
    "                               'oscillation_sigma_threshold' : 1.5}\n",
    "\n",
    "        def update(self):\n",
    "            \n",
    "            #get user input on what to change, if anything\n",
    "            answer = input(\"Which property do you want to update? (rolling_window, smoothing_factor, tail_length, oscillation_sigma_threshold) \")\n",
    "            \n",
    "            #inputting name to change, then the value\n",
    "            if answer == \"rolling_window\":\n",
    "                print(\"Old value: \",self.properties[answer])\n",
    "                quantity = input(\"Input the new value: \")\n",
    "                self.properties[answer] = int(quantity)\n",
    "            elif answer != '':\n",
    "                print(\"Old value: \",self.properties[answer])\n",
    "                quantity = input(\"Input the new value: \")\n",
    "                self.properties[answer] = float(quantity)\n",
    "            #if user changes noting return blank, so status is none and loop continues\n",
    "            #if user returns as happy with result, return complete so loop exits\n",
    "            return 'Complete' if answer == '' else ''\n",
    "        \n",
    "    parameters = Parameters(5, 0.075, 100, 3)\n",
    "\n",
    "    sample_t = np.linspace(df.time_s.min(), df.time_s.max(), 1000000)\n",
    "\n",
    "    #a variable to track if the loop should finish\n",
    "    status = \"\"\n",
    "\n",
    "    #plotting\n",
    "    fig, ax = plt.subplots(dpi = 150)\n",
    "\n",
    "\n",
    "    while status == \"\":\n",
    "\n",
    "        ax.cla()\n",
    "\n",
    "        #interpolation function\n",
    "        f_uni_int = interpolate.UnivariateSpline(df.time_s, df.aspect_ratio, k = 5, s = parameters.properties['smoothing_factor'])\n",
    "        uni_int_AR = f_uni_int(sample_t)\n",
    "\n",
    "        #getting ar final\n",
    "        AR_final = df.aspect_ratio.tail(parameters.properties['tail_length']).mean()\n",
    "        AR_final_std = df.aspect_ratio.tail(parameters.properties['tail_length']).std()\n",
    "\n",
    "        #identifying peak and troughs\n",
    "        peaks, _ = signal.find_peaks(uni_int_AR)\n",
    "        troughs, _ = signal.find_peaks(-uni_int_AR)\n",
    "\n",
    "        #points at which to slice data, sorted by time\n",
    "        chops = np.sort(np.hstack([peaks, troughs]))\n",
    "        chops = sample_t[chops]\n",
    "\n",
    "        #smoothed data by rolling average\n",
    "        smoothed_data = df.rolling(parameters.properties['rolling_window'], center = True).mean()\n",
    "        smoothed_data.dropna(inplace = True)\n",
    "\n",
    "        #limiting the points at which to slice data by the amplitude of oscillation\n",
    "        #uses smoothed data values and finds latestpeak \n",
    "        oscillation_end_threshold = parameters.properties['oscillation_sigma_threshold'] * AR_final_std\n",
    "        oscillating_data = smoothed_data.loc[np.abs(smoothed_data.aspect_ratio - AR_final) > oscillation_end_threshold]\n",
    "\n",
    "        #choose only slices whithin the selected time frame\n",
    "        selected_chops = chops[ chops < oscillating_data.time_s.max()]\n",
    "\n",
    "        #plot width of distribution of equilibrium value\n",
    "        for val in np.linspace(0, 3):\n",
    "            ax.axhspan(AR_final - val * AR_final_std, AR_final + val * AR_final_std, alpha = 0.01, color = 'orange', zorder = 0)\n",
    "        \n",
    "        #plot rolling average\n",
    "        ax.plot(smoothed_data.time_s/1e-6, smoothed_data.aspect_ratio, color = 'k', lw = 2.5, label = \"Rolling Average\")\n",
    "        #plot smoothed spline data\n",
    "        ax.plot(sample_t/1e-6, uni_int_AR, color = 'b', lw = 2.5, label = \"Smoothed Spline\")\n",
    "        #plot raw data\n",
    "        ax.scatter(df.time_s/1e-6, df.aspect_ratio, s = 10, color = 'r', label = \"Raw Data\")\n",
    "\n",
    "        for peak in peaks:\n",
    "            #ax.axvline(sample_t[peak], color = 'b', ls = '--')\n",
    "            ax.scatter(sample_t[peak]/1e-6, uni_int_AR[peak], s=800, facecolors='none', edgecolors='k')\n",
    "        for trough in troughs:\n",
    "            #ax.axvline(sample_t[trough], color = 'b', ls = ':')\n",
    "            ax.scatter(sample_t[trough]/1e-6, uni_int_AR[trough], s=800, facecolors='none', edgecolors='k')    \n",
    "        for chop in selected_chops:\n",
    "            ax.axvline(chop/1e-6, ls = ':', color = 'k', zorder = 0)\n",
    "\n",
    "        ax.axhline(AR_final, color = \"k\", ls = \"--\", label = \"AR Equilibrium = {:.3f}\".format(AR_final), zorder = 1)\n",
    "        ax.axhline(AR_final + oscillation_end_threshold, color = \"orange\", ls = \"--\", label = \"Oscillation Threshold\")\n",
    "        ax.axhline(AR_final - oscillation_end_threshold, color = \"orange\", ls = \"--\",)\n",
    "\n",
    "        plt.legend()\n",
    "        ax.set_xlabel(\"Time / µs\")\n",
    "        ax.set_ylabel(\"Aspect Ratio / -\")\n",
    "        fig.canvas.draw()\n",
    "\n",
    "\n",
    "        display(fig)\n",
    "            \n",
    "        status = parameters.update()\n",
    "        clear_output(wait = True)\n",
    "\n",
    "    print(status)\n",
    "\n",
    "    list_of_data_selections = []\n",
    "    for chop in selected_chops:\n",
    "        list_of_data_selections.append(df.loc[df.time_s > chop])\n",
    "    return selected_chops, list_of_data_selections"
   ]
  },
  {
   "cell_type": "code",
   "execution_count": null,
   "metadata": {},
   "outputs": [],
   "source": [
    "slice_times, sliced_data, settings_used = DOFFTA.slice_data(trimmed_data)"
   ]
  },
  {
   "cell_type": "code",
   "execution_count": null,
   "metadata": {
    "scrolled": false
   },
   "outputs": [],
   "source": [
    "\n",
    "\n",
    "sigmas, sigma_errs, lors, ffts = DOFFTA.chopped_surface_tension_calculations(sliced_data,\n",
    "                                                                             slice_times,\n",
    "                                                                             d_final/2,\n",
    "                                                                             d_final_std/2,\n",
    "                                                                             low_freq_cut_off=min_frequency,\n",
    "                                                                             high_freq_cut_off=max_frequency,\n",
    "                                                                             save_location=dir_path)\n",
    "\n"
   ]
  },
  {
   "cell_type": "code",
   "execution_count": null,
   "metadata": {},
   "outputs": [],
   "source": []
  }
 ],
 "metadata": {
  "kernelspec": {
   "display_name": "Python 3",
   "language": "python",
   "name": "python3"
  },
  "language_info": {
   "codemirror_mode": {
    "name": "ipython",
    "version": 3
   },
   "file_extension": ".py",
   "mimetype": "text/x-python",
   "name": "python",
   "nbconvert_exporter": "python",
   "pygments_lexer": "ipython3",
   "version": "3.8.5"
  }
 },
 "nbformat": 4,
 "nbformat_minor": 4
}
